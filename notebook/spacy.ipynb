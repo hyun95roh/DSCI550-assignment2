{
 "cells": [
  {
   "cell_type": "code",
   "execution_count": null,
   "id": "87dfa53b-7709-4627-b311-c6ea497edd36",
   "metadata": {},
   "outputs": [],
   "source": [
    "# Jupyter/Colab code follows:"
   ]
  },
  {
   "cell_type": "code",
   "execution_count": 2,
   "id": "e1322c89-f76d-4a0a-9337-cceb3d10018c",
   "metadata": {},
   "outputs": [
    {
     "name": "stdout",
     "output_type": "stream",
     "text": [
      "Collecting en-core-web-sm==3.8.0\n",
      "  Downloading https://github.com/explosion/spacy-models/releases/download/en_core_web_sm-3.8.0/en_core_web_sm-3.8.0-py3-none-any.whl (12.8 MB)\n",
      "     ---------------------------------------- 0.0/12.8 MB ? eta -:--:--\n",
      "     ---- ----------------------------------- 1.6/12.8 MB 8.4 MB/s eta 0:00:02\n",
      "     ------------ --------------------------- 3.9/12.8 MB 10.7 MB/s eta 0:00:01\n",
      "     ------------------ --------------------- 6.0/12.8 MB 10.3 MB/s eta 0:00:01\n",
      "     ---------------------- ----------------- 7.3/12.8 MB 9.3 MB/s eta 0:00:01\n",
      "     ----------------------------- ---------- 9.4/12.8 MB 9.3 MB/s eta 0:00:01\n",
      "     ------------------------------------ --- 11.5/12.8 MB 9.5 MB/s eta 0:00:01\n",
      "     ---------------------------------------- 12.8/12.8 MB 9.1 MB/s eta 0:00:00\n",
      "\u001b[38;5;2m[+] Download and installation successful\u001b[0m\n",
      "You can now load the package via spacy.load('en_core_web_sm')\n"
     ]
    }
   ],
   "source": [
    "!python -m spacy download en_core_web_sm "
   ]
  },
  {
   "cell_type": "code",
   "execution_count": 3,
   "id": "b00cca93-7673-496c-a25e-5bd0aa152bb9",
   "metadata": {},
   "outputs": [],
   "source": [
    "import spacy\n",
    "import pandas as pd"
   ]
  },
  {
   "cell_type": "code",
   "execution_count": 4,
   "id": "9c0cf7ff-34fa-47b5-b607-f2a7df7de4e6",
   "metadata": {},
   "outputs": [],
   "source": [
    "nlp = spacy.load(\"en_core_web_sm\") # end of Jupyter/Colab specific"
   ]
  },
  {
   "cell_type": "code",
   "execution_count": null,
   "id": "ba71bc7b-62f3-4777-a71c-3a90ae221bff",
   "metadata": {},
   "outputs": [],
   "source": [
    "\"\"\" # script/github code follows:\n",
    "import spacy\n",
    "import pandas as pd\n",
    "\n",
    "try:\n",
    "     # If model is already downloaded, execute.\n",
    "    nlp = spacy.load(\"en_core_web_sm\")\n",
    "except OSError:\n",
    "    # If the model isn't found, download and load.\n",
    "    from spacy.cli import download\n",
    "    download(\"en_core_web_sm\")\n",
    "    nlp = spacy.load(\"en_core_web_sm\")\n",
    "# end of script/github specific \"\"\""
   ]
  },
  {
   "cell_type": "code",
   "execution_count": null,
   "id": "425d7e59-6663-432d-87d3-1802b6f3e436",
   "metadata": {},
   "outputs": [],
   "source": [
    "# Code to run regardless of execution medium:"
   ]
  },
  {
   "cell_type": "code",
   "execution_count": 5,
   "id": "fd1ee276-24ff-431a-91e5-eeb19ea5b000",
   "metadata": {},
   "outputs": [],
   "source": [
    "# Ensure that the tsv file is available.\n",
    "df = pd.read_csv(\"haunted_places.tsv\", sep=\"\\t\")"
   ]
  },
  {
   "cell_type": "code",
   "execution_count": 6,
   "id": "6e6979b0-94a3-4933-a6f1-940f48301d1a",
   "metadata": {},
   "outputs": [],
   "source": [
    "# Original Code prior to 3 APR\n",
    "\"\"\"def extract_entities(text):\n",
    "    doc = nlp(str(text)) # Ensure text is in string format\n",
    "    return [(ent.label_, ent.text) for ent in doc.ents]\n",
    "\n",
    "# apply NER to the 'description' column. This code takes about 10 minutes.\n",
    "df['entities'] = df['description'].apply(extract_entities) \"\"\""
   ]
  },
  {
   "cell_type": "code",
   "execution_count": 6,
   "id": "f4b79ec4-1b56-40a3-a8ea-77b0e336a10b",
   "metadata": {},
   "outputs": [],
   "source": [
    "# Start 3APR addition\n",
    "def extract_entity_dict(text):\n",
    "    doc = nlp(str(text))\n",
    "    entity_dict = {}\n",
    "    for ent in doc.ents:\n",
    "        entity_dict.setdefault(ent.label_, []).append(ent.text)\n",
    "    return entity_dict"
   ]
  },
  {
   "cell_type": "code",
   "execution_count": 7,
   "id": "0a650c4b-bf57-4c88-9b8f-c226e5061152",
   "metadata": {},
   "outputs": [],
   "source": [
    "# 3APR addition\n",
    "# Apply function to description column. This code took 8 minutes to run.\n",
    "df['entity_dict'] = df['description'].apply(extract_entity_dict)"
   ]
  },
  {
   "cell_type": "code",
   "execution_count": 8,
   "id": "0212a5dd-6971-4d97-abd6-a587a078d30e",
   "metadata": {},
   "outputs": [
    {
     "data": {
      "text/plain": [
       "0        None\n",
       "1        None\n",
       "2        None\n",
       "3        None\n",
       "4        None\n",
       "         ... \n",
       "10987    None\n",
       "10988    None\n",
       "10989    None\n",
       "10990    None\n",
       "10991    None\n",
       "Name: entity_dict, Length: 10992, dtype: object"
      ]
     },
     "execution_count": 8,
     "metadata": {},
     "output_type": "execute_result"
    }
   ],
   "source": [
    "# 3APR addition\n",
    "# Get all unique entity labels from the dataset\n",
    "all_labels = set()\n",
    "df['entity_dict'].apply(lambda d: all_labels.update(d.keys()))"
   ]
  },
  {
   "cell_type": "code",
   "execution_count": 9,
   "id": "a789d539-a8b8-45ad-8188-99bb18a895d1",
   "metadata": {},
   "outputs": [],
   "source": [
    "# Create separate columns for each label\n",
    "for label in all_labels:\n",
    "    df[label] = df['entity_dict'].apply(lambda d: d.get(label, []))\n"
   ]
  },
  {
   "cell_type": "code",
   "execution_count": 10,
   "id": "df7881dd-c391-4043-b2b3-f9e19c93f0c8",
   "metadata": {},
   "outputs": [],
   "source": [
    "# Drop the intermediate dictionary column if not needed\n",
    "df.drop(columns=['entity_dict'], inplace=True)"
   ]
  },
  {
   "cell_type": "code",
   "execution_count": 11,
   "id": "ff56f3b7-c7df-471a-89a5-0bb024fcc016",
   "metadata": {},
   "outputs": [
    {
     "name": "stdout",
     "output_type": "stream",
     "text": [
      "NER complete. Results saved to ner_results_v2.tsv.\n"
     ]
    }
   ],
   "source": [
    "# Save to a new file.\n",
    "ner_results = \"ner_results_v2.tsv\"\n",
    "\n",
    "df.to_csv(ner_results, sep=\"\\t\", index=False)\n",
    "\n",
    "print(f\"NER complete. Results saved to {ner_results}.\") "
   ]
  },
  {
   "cell_type": "code",
   "execution_count": null,
   "id": "c0932b6c-caef-4c4c-bca6-ee820178708f",
   "metadata": {},
   "outputs": [],
   "source": []
  }
 ],
 "metadata": {
  "kernelspec": {
   "display_name": "Python 3 (ipykernel)",
   "language": "python",
   "name": "python3"
  },
  "language_info": {
   "codemirror_mode": {
    "name": "ipython",
    "version": 3
   },
   "file_extension": ".py",
   "mimetype": "text/x-python",
   "name": "python",
   "nbconvert_exporter": "python",
   "pygments_lexer": "ipython3",
   "version": "3.12.4"
  }
 },
 "nbformat": 4,
 "nbformat_minor": 5
}
