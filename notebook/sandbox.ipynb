{
 "cells": [
  {
   "cell_type": "code",
   "execution_count": null,
   "metadata": {},
   "outputs": [],
   "source": []
  },
  {
   "cell_type": "code",
   "execution_count": null,
   "metadata": {},
   "outputs": [],
   "source": []
  },
  {
   "cell_type": "markdown",
   "metadata": {},
   "source": [
    "## Geoparser"
   ]
  },
  {
   "cell_type": "code",
   "execution_count": 7,
   "metadata": {},
   "outputs": [
    {
     "name": "stdout",
     "output_type": "stream",
     "text": [
      "-- Using project root: /root/vscode/ds550/DSCI550-assignment2\n"
     ]
    },
    {
     "name": "stderr",
     "output_type": "stream",
     "text": [
      "INFO  [main] 04:03:34,655 org.apache.tika.parser.sentiment.SentimentAnalysisParser Sentiment Model is at https://raw.githubusercontent.com/USCDataScience/SentimentAnalysisParser/master/sentiment-models/src/main/resources/edu/usc/irds/sentiment/en-netflix-sentiment.bin\n",
      "INFO  [main] 04:03:37,406 org.apache.tika.parser.sentiment.SentimentAnalysisParser Sentiment Model is at https://raw.githubusercontent.com/USCDataScience/SentimentAnalysisParser/master/sentiment-models/src/main/resources/edu/usc/irds/sentiment/en-netflix-sentiment.bin\n"
     ]
    },
    {
     "name": "stdout",
     "output_type": "stream",
     "text": [
      "     filename Content-Length          Content-Type Geographic_LATITUDE  \\\n",
      "0  polar.geot            881  application/geotopic               39.76   \n",
      "1    cnn.geot           3164  application/geotopic             26.0112   \n",
      "\n",
      "  Geographic_LONGITUDE Geographic_NAME Optional_LATITUDE1 Optional_LONGITUDE1  \\\n",
      "0                -98.5   United States               35.0               105.0   \n",
      "1            -80.14949       Hollywood           40.92877           -74.96032   \n",
      "\n",
      "                                 Optional_NAME1  \\\n",
      "0                    People’s Republic of China   \n",
      "1  New Jersey State Police Troop B Hope Station   \n",
      "\n",
      "                       X-TIKA:Parsed-By             X-TIKA:Parsed-By-Full-Set  \\\n",
      "0  org.apache.tika.parser.geo.GeoParser  org.apache.tika.parser.geo.GeoParser   \n",
      "1  org.apache.tika.parser.geo.GeoParser  org.apache.tika.parser.geo.GeoParser   \n",
      "\n",
      "  resourceName Optional_LATITUDE2 Optional_LONGITUDE2  Optional_NAME2  \n",
      "0   polar.geot                NaN                 NaN             NaN  \n",
      "1     cnn.geot           44.60715           -69.04576  Town of Monroe  \n"
     ]
    }
   ],
   "source": [
    "import os\n",
    "import subprocess\n",
    "import pandas as pd\n",
    "\n",
    "# Get absolute path to this script\n",
    "current_dir = os.getcwd()\n",
    "# Assume repo root is 1 levels up \n",
    "project_root = os.path.abspath(os.path.join(current_dir, '..')) \n",
    "\n",
    "if not os.path.isdir(project_root):\n",
    "    raise FileNotFoundError(f\"❌ Project root not found at: {project_root}\")\n",
    "print(f\"-- Using project root: {project_root}\")\n",
    "\n",
    "geot_files_dir = os.path.join(project_root, 'src', 'geotopic-mime')\n",
    "tika_app_jar = os.path.join(project_root, 'src', 'tika', 'tika-app-2.6.0.jar')\n",
    "tika_nlp_jar = os.path.join(project_root, 'src', 'tika', 'tika-parser-nlp-package-2.6.0.jar')\n",
    "ner_model_dir = os.path.join(project_root, 'src', 'location-ner-model')\n",
    "\n",
    "\n",
    "# 3. Construct Tika CLI Command Base\n",
    "classpath = f\"{tika_app_jar}:{tika_nlp_jar}:{ner_model_dir}:{geot_files_dir}\"\n",
    "tika_cmd_base = [\n",
    "    \"java\", \"-classpath\", classpath,\n",
    "    \"org.apache.tika.cli.TikaCLI\", \"-m\"\n",
    "]\n",
    "\n",
    "# 4. Loop through multiple .geot files\n",
    "results = []\n",
    "for filename in os.listdir(geot_files_dir):\n",
    "    if filename.endswith(\".geot\"):\n",
    "        filepath = os.path.join(geot_files_dir, filename)\n",
    "        cmd = tika_cmd_base + [filepath]\n",
    "\n",
    "        try:\n",
    "            output = subprocess.check_output(\" \".join(cmd), shell=True, text=True)\n",
    "        except subprocess.CalledProcessError as e:\n",
    "            print(f\" Error processing {filename}: {e}\")\n",
    "            continue\n",
    "\n",
    "        # Parse Tika metadata output\n",
    "        metadata = {\"filename\": filename}\n",
    "        for line in output.splitlines():\n",
    "            if \": \" in line:\n",
    "                key, value = line.split(\": \", 1)\n",
    "                metadata[key.strip()] = value.strip()\n",
    "\n",
    "        results.append(metadata)\n",
    "\n",
    "\n",
    "# Convert to DataFrame\n",
    "df = pd.DataFrame(results)\n",
    "print(df.head())"
   ]
  }
 ],
 "metadata": {
  "kernelspec": {
   "display_name": "ds550",
   "language": "python",
   "name": "python3"
  },
  "language_info": {
   "codemirror_mode": {
    "name": "ipython",
    "version": 3
   },
   "file_extension": ".py",
   "mimetype": "text/x-python",
   "name": "python",
   "nbconvert_exporter": "python",
   "pygments_lexer": "ipython3",
   "version": "3.10.16"
  }
 },
 "nbformat": 4,
 "nbformat_minor": 2
}
