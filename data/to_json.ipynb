{
 "cells": [
  {
   "cell_type": "code",
   "execution_count": 6,
   "id": "96dcc7c1",
   "metadata": {},
   "outputs": [],
   "source": [
    "path = 'tsv2_final.tsv'\n",
    "\n",
    "import pandas as pd \n",
    "data = pd.read_csv(path, sep='\\t')\n",
    "data = data.drop(columns=['description']).iloc[:10000,:14]\n",
    "data\n",
    "data.to_json('tsv2_final.json',orient='records')"
   ]
  }
 ],
 "metadata": {
  "kernelspec": {
   "display_name": "ds550",
   "language": "python",
   "name": "python3"
  },
  "language_info": {
   "codemirror_mode": {
    "name": "ipython",
    "version": 3
   },
   "file_extension": ".py",
   "mimetype": "text/x-python",
   "name": "python",
   "nbconvert_exporter": "python",
   "pygments_lexer": "ipython3",
   "version": "3.10.16"
  }
 },
 "nbformat": 4,
 "nbformat_minor": 5
}
