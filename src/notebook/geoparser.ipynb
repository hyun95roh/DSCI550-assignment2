{
 "cells": [
  {
   "cell_type": "code",
   "execution_count": 2,
   "id": "e81f3369",
   "metadata": {},
   "outputs": [],
   "source": [
    "import os\n",
    "import subprocess\n",
    "import pandas as pd\n",
    "\n",
    "def geotopicparser(file_name_include=None,extension='.geot',geot_files_dir='geotopic-mime', tika_app_jar='tika-app-2.6.0.jar', tika_nlp_jar='tika-parser-nlp-package-2.6.0.jar', ner_model_dir='ner-models'):\n",
    "    # 1. Directory setting\n",
    "    current_dir = os.getcwd() # Get absolute path to this script\n",
    "    project_root = os.path.abspath(os.path.join(current_dir, '..','..')) # Assume repo root is 2 levels up\n",
    "\n",
    "    if not os.path.isdir(project_root):\n",
    "        raise FileNotFoundError(f\"❌ Project root not found at: {project_root}\")\n",
    "    print(f\"-- Using project root: {project_root}\")\n",
    "\n",
    "    # four directories of demand : \n",
    "    geot_files_dir = os.path.join(project_root, 'src', geot_files_dir) \n",
    "    tika_app_jar = os.path.join(project_root, 'src', 'tika', tika_app_jar)\n",
    "    tika_nlp_jar = os.path.join(project_root, 'src', 'tika', tika_nlp_jar)\n",
    "    ner_model_dir = os.path.join(project_root, 'src', ner_model_dir)\n",
    "\n",
    "\n",
    "    # 3. Construct Tika CLI Command Base\n",
    "    classpath = f\"{tika_app_jar}:{tika_nlp_jar}:{ner_model_dir}:{geot_files_dir}\"\n",
    "    tika_cmd_base = [\n",
    "        \"java\", \"-classpath\", classpath,\n",
    "        \"org.apache.tika.cli.TikaCLI\", \"-m\"\n",
    "    ]\n",
    "\n",
    "    # 4. Loop through multiple .geot files\n",
    "    results = []\n",
    "    for filename in os.listdir(geot_files_dir):\n",
    "        if filename.endswith(extension) and (file_name_include is None or file_name_include in filename):\n",
    "            filepath = os.path.join(geot_files_dir, filename)\n",
    "            cmd = tika_cmd_base + [filepath]\n",
    "\n",
    "            try:\n",
    "                output = subprocess.check_output(\" \".join(cmd), shell=True, text=True)\n",
    "            except subprocess.CalledProcessError as e:\n",
    "                print(f\" Error processing {filename}: {e}\")\n",
    "                continue\n",
    "\n",
    "            # Parse Tika metadata output\n",
    "            metadata = {\"filename\": filename}\n",
    "            for line in output.splitlines():\n",
    "                if \": \" in line:\n",
    "                    key, value = line.split(\": \", 1)\n",
    "                    metadata[key.strip()] = value.strip()\n",
    "\n",
    "            results.append(metadata)\n",
    "\n",
    "    return results\n",
    "\n"
   ]
  },
  {
   "cell_type": "code",
   "execution_count": 4,
   "id": "9d65e96b",
   "metadata": {},
   "outputs": [
    {
     "name": "stdout",
     "output_type": "stream",
     "text": [
      "-- Using project root: /root/vscode/ds550/DSCI550-assignment2\n"
     ]
    },
    {
     "name": "stderr",
     "output_type": "stream",
     "text": [
      "INFO  [main] 05:00:10,798 org.apache.tika.parser.sentiment.SentimentAnalysisParser Sentiment Model is at https://raw.githubusercontent.com/USCDataScience/SentimentAnalysisParser/master/sentiment-models/src/main/resources/edu/usc/irds/sentiment/en-netflix-sentiment.bin\n"
     ]
    },
    {
     "data": {
      "text/plain": [
       "[{'filename': 'polar.geot',\n",
       "  'Content-Length': '881',\n",
       "  'Content-Type': 'application/geotopic',\n",
       "  'X-TIKA:Parsed-By': 'org.apache.tika.parser.geo.GeoParser',\n",
       "  'X-TIKA:Parsed-By-Full-Set': 'org.apache.tika.parser.geo.GeoParser',\n",
       "  'resourceName': 'polar.geot'}]"
      ]
     },
     "execution_count": 4,
     "metadata": {},
     "output_type": "execute_result"
    }
   ],
   "source": [
    "result = geotopicparser(file_name_include='polar')\n",
    "result"
   ]
  },
  {
   "cell_type": "code",
   "execution_count": null,
   "id": "651efc89",
   "metadata": {},
   "outputs": [],
   "source": [
    "# Convert to json and save to file\n",
    "import json\n",
    "import pandas as pd\n",
    "\n",
    "result_json = json.dumps(result, indent=4)\n",
    "with open('geotopic_metadata.json', 'w') as f:\n",
    "    f.write(result_json)"
   ]
  }
 ],
 "metadata": {
  "kernelspec": {
   "display_name": "ds550",
   "language": "python",
   "name": "python3"
  },
  "language_info": {
   "codemirror_mode": {
    "name": "ipython",
    "version": 3
   },
   "file_extension": ".py",
   "mimetype": "text/x-python",
   "name": "python",
   "nbconvert_exporter": "python",
   "pygments_lexer": "ipython3",
   "version": "3.10.16"
  }
 },
 "nbformat": 4,
 "nbformat_minor": 5
}
